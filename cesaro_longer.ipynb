{
 "cells": [
  {
   "cell_type": "code",
   "id": "initial_id",
   "metadata": {
    "collapsed": true,
    "ExecuteTime": {
     "end_time": "2024-12-18T12:58:24.033359Z",
     "start_time": "2024-12-18T12:58:24.020347Z"
    }
   },
   "source": [
    "import random\n",
    "import math"
   ],
   "outputs": [],
   "execution_count": 9
  },
  {
   "metadata": {
    "ExecuteTime": {
     "end_time": "2024-12-18T12:58:24.049373Z",
     "start_time": "2024-12-18T12:58:24.034360Z"
    }
   },
   "cell_type": "code",
   "source": [
    "def nwd(a, b):\n",
    "    while b != 0:\n",
    "        a, b = b, a % b\n",
    "    return a"
   ],
   "id": "68f90eace679fc33",
   "outputs": [],
   "execution_count": 10
  },
  {
   "metadata": {
    "ExecuteTime": {
     "end_time": "2024-12-18T12:58:24.065388Z",
     "start_time": "2024-12-18T12:58:24.050374Z"
    }
   },
   "cell_type": "code",
   "source": [
    "def calculate_pi(iters):\n",
    "    primes_counter = 0\n",
    "\n",
    "    for _ in range(iters):\n",
    "        x = random.randint(1, 1000000)\n",
    "        y = random.randint(1, 1000000)\n",
    "        if nwd(x, y) == 1:\n",
    "            primes_counter += 1\n",
    "\n",
    "    probability = primes_counter / iters\n",
    "    calculated_pi = math.sqrt(6 / probability)\n",
    "    return calculated_pi"
   ],
   "id": "cf46fcbb722fdba",
   "outputs": [],
   "execution_count": 11
  },
  {
   "metadata": {
    "ExecuteTime": {
     "end_time": "2024-12-18T13:26:47.315041Z",
     "start_time": "2024-12-18T12:58:24.066389Z"
    }
   },
   "cell_type": "code",
   "source": [
    "iterations = 1000000000\n",
    "pi_value = calculate_pi(iterations)\n",
    "print(f'Przybliżona wartość liczby pi po {iterations} iteracjach wynosi: {pi_value}')"
   ],
   "id": "c537e47d43d1338e",
   "outputs": [
    {
     "name": "stdout",
     "output_type": "stream",
     "text": [
      "Przybliżona wartość liczby pi po 1000000000 iteracjach wynosi: 3.1415874157488157\n"
     ]
    }
   ],
   "execution_count": 12
  }
 ],
 "metadata": {
  "kernelspec": {
   "display_name": "Python 3",
   "language": "python",
   "name": "python3"
  },
  "language_info": {
   "codemirror_mode": {
    "name": "ipython",
    "version": 2
   },
   "file_extension": ".py",
   "mimetype": "text/x-python",
   "name": "python",
   "nbconvert_exporter": "python",
   "pygments_lexer": "ipython2",
   "version": "2.7.6"
  }
 },
 "nbformat": 4,
 "nbformat_minor": 5
}
